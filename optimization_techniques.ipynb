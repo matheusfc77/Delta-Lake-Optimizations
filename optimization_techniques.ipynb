{
 "cells": [
  {
   "cell_type": "markdown",
   "metadata": {},
   "source": [
    "## Initializing Spark"
   ]
  },
  {
   "cell_type": "code",
   "execution_count": 1,
   "metadata": {},
   "outputs": [],
   "source": [
    "import pyspark.sql.functions as F\n",
    "from pyspark.sql import SparkSession\n",
    "from delta.pip_utils import configure_spark_with_delta_pip\n",
    "\n",
    "\n",
    "class DataUtils:\n",
    " \n",
    "    def initialize_spark():\n",
    "        spark = (\n",
    "            SparkSession\n",
    "            .builder.master(\"local\")\n",
    "            .appName(\"myapp2\")\n",
    "            .config(\"spark.sql.extensions\", \"io.delta.sql.DeltaSparkSessionExtension\")\n",
    "            .config(\"spark.sql.catalog.spark_catalog\", \"org.apache.spark.sql.delta.catalog.DeltaCatalog\")\n",
    "        )\n",
    "        spark = configure_spark_with_delta_pip(spark).getOrCreate()\n",
    "        #spark.sparkContext.setLogLevel(\"ERROR\")\n",
    "        spark.conf.set(\"spark.sql.shuffle.partitions\", 8)\n",
    "        return spark"
   ]
  },
  {
   "cell_type": "code",
   "execution_count": 2,
   "metadata": {},
   "outputs": [
    {
     "name": "stderr",
     "output_type": "stream",
     "text": [
      "23/11/21 08:32:42 WARN Utils: Your hostname, matheus-Aspire-A515-45 resolves to a loopback address: 127.0.1.1; using 192.168.2.7 instead (on interface wlp4s0)\n",
      "23/11/21 08:32:42 WARN Utils: Set SPARK_LOCAL_IP if you need to bind to another address\n"
     ]
    },
    {
     "name": "stdout",
     "output_type": "stream",
     "text": [
      ":: loading settings :: url = jar:file:/home/matheus/.local/lib/python3.10/site-packages/pyspark/jars/ivy-2.5.1.jar!/org/apache/ivy/core/settings/ivysettings.xml\n"
     ]
    },
    {
     "name": "stderr",
     "output_type": "stream",
     "text": [
      "Ivy Default Cache set to: /home/matheus/.ivy2/cache\n",
      "The jars for the packages stored in: /home/matheus/.ivy2/jars\n",
      "io.delta#delta-core_2.12 added as a dependency\n",
      ":: resolving dependencies :: org.apache.spark#spark-submit-parent-cdcac031-47ae-4c3d-8bd3-f03a57eb49ca;1.0\n",
      "\tconfs: [default]\n",
      "\tfound io.delta#delta-core_2.12;2.4.0 in central\n",
      "\tfound io.delta#delta-storage;2.4.0 in central\n",
      "\tfound org.antlr#antlr4-runtime;4.9.3 in central\n",
      ":: resolution report :: resolve 252ms :: artifacts dl 12ms\n",
      "\t:: modules in use:\n",
      "\tio.delta#delta-core_2.12;2.4.0 from central in [default]\n",
      "\tio.delta#delta-storage;2.4.0 from central in [default]\n",
      "\torg.antlr#antlr4-runtime;4.9.3 from central in [default]\n",
      "\t---------------------------------------------------------------------\n",
      "\t|                  |            modules            ||   artifacts   |\n",
      "\t|       conf       | number| search|dwnlded|evicted|| number|dwnlded|\n",
      "\t---------------------------------------------------------------------\n",
      "\t|      default     |   3   |   0   |   0   |   0   ||   3   |   0   |\n",
      "\t---------------------------------------------------------------------\n",
      ":: retrieving :: org.apache.spark#spark-submit-parent-cdcac031-47ae-4c3d-8bd3-f03a57eb49ca\n",
      "\tconfs: [default]\n",
      "\t0 artifacts copied, 3 already retrieved (0kB/8ms)\n",
      "23/11/21 08:32:43 WARN NativeCodeLoader: Unable to load native-hadoop library for your platform... using builtin-java classes where applicable\n",
      "Setting default log level to \"WARN\".\n",
      "To adjust logging level use sc.setLogLevel(newLevel). For SparkR, use setLogLevel(newLevel).\n"
     ]
    }
   ],
   "source": [
    "spark = DataUtils.initialize_spark()"
   ]
  },
  {
   "cell_type": "code",
   "execution_count": 3,
   "metadata": {},
   "outputs": [],
   "source": [
    "import os\n",
    "PATH_ROOT = os.getcwd() + '/'\n",
    "PATH_RAW = PATH_ROOT + 'data/'\n",
    "PATH_BASELINE = PATH_ROOT + 'baseline/'\n",
    "PATH_PARTITION = PATH_ROOT + 'partition/'\n",
    "PATH_ZORDER = PATH_ROOT + 'zorder/'"
   ]
  },
  {
   "cell_type": "markdown",
   "metadata": {},
   "source": [
    "## Baseline"
   ]
  },
  {
   "cell_type": "code",
   "execution_count": 4,
   "metadata": {},
   "outputs": [
    {
     "name": "stderr",
     "output_type": "stream",
     "text": [
      "                                                                                \r"
     ]
    }
   ],
   "source": [
    "df_raw = (\n",
    "    spark\n",
    "    .read.format('json')\n",
    "    .load(PATH_RAW)\n",
    ")"
   ]
  },
  {
   "cell_type": "code",
   "execution_count": 5,
   "metadata": {},
   "outputs": [
    {
     "name": "stderr",
     "output_type": "stream",
     "text": [
      "23/11/21 08:33:02 WARN package: Truncated the string representation of a plan since it was too large. This behavior can be adjusted by setting 'spark.sql.debug.maxToStringFields'.\n",
      "                                                                                \r"
     ]
    }
   ],
   "source": [
    "(\n",
    "    df_raw\n",
    "        .write.format(\"delta\")\n",
    "        .mode(\"overwrite\")\n",
    "        .save(PATH_BASELINE)\n",
    ")"
   ]
  },
  {
   "cell_type": "code",
   "execution_count": 6,
   "metadata": {},
   "outputs": [],
   "source": [
    "df_baseline = (\n",
    "    spark\n",
    "    .read.format(\"delta\")\n",
    "    .load(PATH_BASELINE)\n",
    ")"
   ]
  },
  {
   "cell_type": "code",
   "execution_count": 7,
   "metadata": {},
   "outputs": [
    {
     "name": "stderr",
     "output_type": "stream",
     "text": [
      "                                                                                \r"
     ]
    },
    {
     "name": "stdout",
     "output_type": "stream",
     "text": [
      "+-------------+-----+\n",
      "|         City|count|\n",
      "+-------------+-----+\n",
      "|     Portland|  105|\n",
      "|       Denver|   92|\n",
      "|    San Diego|   91|\n",
      "|      Seattle|   78|\n",
      "|      Chicago|   64|\n",
      "|       Austin|   49|\n",
      "|      Houston|   40|\n",
      "|San Francisco|   39|\n",
      "|     Columbus|   39|\n",
      "|  Minneapolis|   38|\n",
      "|     Richmond|   36|\n",
      "|   Cincinnati|   34|\n",
      "| Indianapolis|   33|\n",
      "|  Albuquerque|   32|\n",
      "|    Charlotte|   32|\n",
      "|    Cleveland|   31|\n",
      "|      Spokane|   30|\n",
      "|    Milwaukee|   29|\n",
      "|  Saint Louis|   28|\n",
      "| Grand Rapids|   28|\n",
      "+-------------+-----+\n",
      "only showing top 20 rows\n",
      "\n"
     ]
    },
    {
     "name": "stderr",
     "output_type": "stream",
     "text": [
      "                                                                                \r"
     ]
    },
    {
     "name": "stdout",
     "output_type": "stream",
     "text": [
      "+-------------+-----+\n",
      "|         City|count|\n",
      "+-------------+-----+\n",
      "|     Portland|  105|\n",
      "|       Denver|   92|\n",
      "|    San Diego|   91|\n",
      "|      Seattle|   78|\n",
      "|      Chicago|   64|\n",
      "|       Austin|   49|\n",
      "|      Houston|   40|\n",
      "|San Francisco|   39|\n",
      "|     Columbus|   39|\n",
      "|  Minneapolis|   38|\n",
      "|     Richmond|   36|\n",
      "|   Cincinnati|   34|\n",
      "| Indianapolis|   33|\n",
      "|  Albuquerque|   32|\n",
      "|    Charlotte|   32|\n",
      "|    Cleveland|   31|\n",
      "|      Spokane|   30|\n",
      "|    Milwaukee|   29|\n",
      "|  Saint Louis|   28|\n",
      "| Grand Rapids|   28|\n",
      "+-------------+-----+\n",
      "only showing top 20 rows\n",
      "\n"
     ]
    },
    {
     "name": "stderr",
     "output_type": "stream",
     "text": [
      "                                                                                \r"
     ]
    },
    {
     "name": "stdout",
     "output_type": "stream",
     "text": [
      "+-------------+-----+\n",
      "|         City|count|\n",
      "+-------------+-----+\n",
      "|     Portland|  105|\n",
      "|       Denver|   92|\n",
      "|    San Diego|   91|\n",
      "|      Seattle|   78|\n",
      "|      Chicago|   64|\n",
      "|       Austin|   49|\n",
      "|      Houston|   40|\n",
      "|San Francisco|   39|\n",
      "|     Columbus|   39|\n",
      "|  Minneapolis|   38|\n",
      "|     Richmond|   36|\n",
      "|   Cincinnati|   34|\n",
      "| Indianapolis|   33|\n",
      "|  Albuquerque|   32|\n",
      "|    Charlotte|   32|\n",
      "|    Cleveland|   31|\n",
      "|      Spokane|   30|\n",
      "|    Milwaukee|   29|\n",
      "|  Saint Louis|   28|\n",
      "| Grand Rapids|   28|\n",
      "+-------------+-----+\n",
      "only showing top 20 rows\n",
      "\n"
     ]
    },
    {
     "name": "stderr",
     "output_type": "stream",
     "text": [
      "                                                                                \r"
     ]
    },
    {
     "name": "stdout",
     "output_type": "stream",
     "text": [
      "+-------------+-----+\n",
      "|         City|count|\n",
      "+-------------+-----+\n",
      "|     Portland|  105|\n",
      "|       Denver|   92|\n",
      "|    San Diego|   91|\n",
      "|      Seattle|   78|\n",
      "|      Chicago|   64|\n",
      "|       Austin|   49|\n",
      "|      Houston|   40|\n",
      "|San Francisco|   39|\n",
      "|     Columbus|   39|\n",
      "|  Minneapolis|   38|\n",
      "|     Richmond|   36|\n",
      "|   Cincinnati|   34|\n",
      "| Indianapolis|   33|\n",
      "|  Albuquerque|   32|\n",
      "|    Charlotte|   32|\n",
      "|    Cleveland|   31|\n",
      "|      Spokane|   30|\n",
      "|    Milwaukee|   29|\n",
      "|  Saint Louis|   28|\n",
      "| Grand Rapids|   28|\n",
      "+-------------+-----+\n",
      "only showing top 20 rows\n",
      "\n"
     ]
    },
    {
     "name": "stderr",
     "output_type": "stream",
     "text": [
      "                                                                                \r"
     ]
    },
    {
     "name": "stdout",
     "output_type": "stream",
     "text": [
      "+-------------+-----+\n",
      "|         City|count|\n",
      "+-------------+-----+\n",
      "|     Portland|  105|\n",
      "|       Denver|   92|\n",
      "|    San Diego|   91|\n",
      "|      Seattle|   78|\n",
      "|      Chicago|   64|\n",
      "|       Austin|   49|\n",
      "|      Houston|   40|\n",
      "|San Francisco|   39|\n",
      "|     Columbus|   39|\n",
      "|  Minneapolis|   38|\n",
      "|     Richmond|   36|\n",
      "|   Cincinnati|   34|\n",
      "| Indianapolis|   33|\n",
      "|  Albuquerque|   32|\n",
      "|    Charlotte|   32|\n",
      "|    Cleveland|   31|\n",
      "|      Spokane|   30|\n",
      "|    Milwaukee|   29|\n",
      "|  Saint Louis|   28|\n",
      "| Grand Rapids|   28|\n",
      "+-------------+-----+\n",
      "only showing top 20 rows\n",
      "\n"
     ]
    },
    {
     "name": "stderr",
     "output_type": "stream",
     "text": [
      "                                                                                \r"
     ]
    },
    {
     "name": "stdout",
     "output_type": "stream",
     "text": [
      "+-------------+-----+\n",
      "|         City|count|\n",
      "+-------------+-----+\n",
      "|     Portland|  105|\n",
      "|       Denver|   92|\n",
      "|    San Diego|   91|\n",
      "|      Seattle|   78|\n",
      "|      Chicago|   64|\n",
      "|       Austin|   49|\n",
      "|      Houston|   40|\n",
      "|San Francisco|   39|\n",
      "|     Columbus|   39|\n",
      "|  Minneapolis|   38|\n",
      "|     Richmond|   36|\n",
      "|   Cincinnati|   34|\n",
      "| Indianapolis|   33|\n",
      "|  Albuquerque|   32|\n",
      "|    Charlotte|   32|\n",
      "|    Cleveland|   31|\n",
      "|      Spokane|   30|\n",
      "|    Milwaukee|   29|\n",
      "|  Saint Louis|   28|\n",
      "| Grand Rapids|   28|\n",
      "+-------------+-----+\n",
      "only showing top 20 rows\n",
      "\n"
     ]
    },
    {
     "name": "stderr",
     "output_type": "stream",
     "text": [
      "                                                                                \r"
     ]
    },
    {
     "name": "stdout",
     "output_type": "stream",
     "text": [
      "+-------------+-----+\n",
      "|         City|count|\n",
      "+-------------+-----+\n",
      "|     Portland|  105|\n",
      "|       Denver|   92|\n",
      "|    San Diego|   91|\n",
      "|      Seattle|   78|\n",
      "|      Chicago|   64|\n",
      "|       Austin|   49|\n",
      "|      Houston|   40|\n",
      "|San Francisco|   39|\n",
      "|     Columbus|   39|\n",
      "|  Minneapolis|   38|\n",
      "|     Richmond|   36|\n",
      "|   Cincinnati|   34|\n",
      "| Indianapolis|   33|\n",
      "|  Albuquerque|   32|\n",
      "|    Charlotte|   32|\n",
      "|    Cleveland|   31|\n",
      "|      Spokane|   30|\n",
      "|    Milwaukee|   29|\n",
      "|  Saint Louis|   28|\n",
      "| Grand Rapids|   28|\n",
      "+-------------+-----+\n",
      "only showing top 20 rows\n",
      "\n"
     ]
    },
    {
     "name": "stderr",
     "output_type": "stream",
     "text": [
      "                                                                                \r"
     ]
    },
    {
     "name": "stdout",
     "output_type": "stream",
     "text": [
      "+-------------+-----+\n",
      "|         City|count|\n",
      "+-------------+-----+\n",
      "|     Portland|  105|\n",
      "|       Denver|   92|\n",
      "|    San Diego|   91|\n",
      "|      Seattle|   78|\n",
      "|      Chicago|   64|\n",
      "|       Austin|   49|\n",
      "|      Houston|   40|\n",
      "|San Francisco|   39|\n",
      "|     Columbus|   39|\n",
      "|  Minneapolis|   38|\n",
      "|     Richmond|   36|\n",
      "|   Cincinnati|   34|\n",
      "| Indianapolis|   33|\n",
      "|  Albuquerque|   32|\n",
      "|    Charlotte|   32|\n",
      "|    Cleveland|   31|\n",
      "|      Spokane|   30|\n",
      "|    Milwaukee|   29|\n",
      "|  Saint Louis|   28|\n",
      "| Grand Rapids|   28|\n",
      "+-------------+-----+\n",
      "only showing top 20 rows\n",
      "\n",
      "1.09 s ± 105 ms per loop (mean ± std. dev. of 7 runs, 1 loop each)\n"
     ]
    }
   ],
   "source": [
    "%%timeit\n",
    "df_baseline.groupBy(\"City\").count().orderBy(F.col('count').desc()).show()"
   ]
  },
  {
   "cell_type": "markdown",
   "metadata": {},
   "source": [
    "## Partitions"
   ]
  },
  {
   "cell_type": "code",
   "execution_count": 8,
   "metadata": {},
   "outputs": [
    {
     "name": "stderr",
     "output_type": "stream",
     "text": [
      "                                                                                \r"
     ]
    }
   ],
   "source": [
    "(\n",
    "    df_baseline\n",
    "        .write.format(\"delta\")\n",
    "        .mode(\"overwrite\")\n",
    "        .option(\"overwriteSchema\", \"true\")\n",
    "        .partitionBy(\"City\")\n",
    "        .save(PATH_PARTITION)\n",
    ")"
   ]
  },
  {
   "cell_type": "code",
   "execution_count": 9,
   "metadata": {},
   "outputs": [],
   "source": [
    "df_partition = (\n",
    "    spark\n",
    "    .read.format(\"delta\")\n",
    "    .load(PATH_PARTITION)\n",
    ")"
   ]
  },
  {
   "cell_type": "code",
   "execution_count": 10,
   "metadata": {},
   "outputs": [
    {
     "name": "stderr",
     "output_type": "stream",
     "text": [
      "                                                                                \r"
     ]
    },
    {
     "name": "stdout",
     "output_type": "stream",
     "text": [
      "+-------------+-----+\n",
      "|         City|count|\n",
      "+-------------+-----+\n",
      "|     Portland|  105|\n",
      "|       Denver|   92|\n",
      "|    San Diego|   91|\n",
      "|      Seattle|   78|\n",
      "|      Chicago|   64|\n",
      "|       Austin|   49|\n",
      "|      Houston|   40|\n",
      "|San Francisco|   39|\n",
      "|     Columbus|   39|\n",
      "|  Minneapolis|   38|\n",
      "|     Richmond|   36|\n",
      "|   Cincinnati|   34|\n",
      "| Indianapolis|   33|\n",
      "|  Albuquerque|   32|\n",
      "|    Charlotte|   32|\n",
      "|    Cleveland|   31|\n",
      "|      Spokane|   30|\n",
      "|    Milwaukee|   29|\n",
      "|  Saint Louis|   28|\n",
      "| Grand Rapids|   28|\n",
      "+-------------+-----+\n",
      "only showing top 20 rows\n",
      "\n"
     ]
    },
    {
     "name": "stderr",
     "output_type": "stream",
     "text": [
      "                                                                                \r"
     ]
    },
    {
     "name": "stdout",
     "output_type": "stream",
     "text": [
      "+-------------+-----+\n",
      "|         City|count|\n",
      "+-------------+-----+\n",
      "|     Portland|  105|\n",
      "|       Denver|   92|\n",
      "|    San Diego|   91|\n",
      "|      Seattle|   78|\n",
      "|      Chicago|   64|\n",
      "|       Austin|   49|\n",
      "|      Houston|   40|\n",
      "|San Francisco|   39|\n",
      "|     Columbus|   39|\n",
      "|  Minneapolis|   38|\n",
      "|     Richmond|   36|\n",
      "|   Cincinnati|   34|\n",
      "| Indianapolis|   33|\n",
      "|  Albuquerque|   32|\n",
      "|    Charlotte|   32|\n",
      "|    Cleveland|   31|\n",
      "|      Spokane|   30|\n",
      "|    Milwaukee|   29|\n",
      "|  Saint Louis|   28|\n",
      "| Grand Rapids|   28|\n",
      "+-------------+-----+\n",
      "only showing top 20 rows\n",
      "\n"
     ]
    },
    {
     "name": "stderr",
     "output_type": "stream",
     "text": [
      "                                                                                \r"
     ]
    },
    {
     "name": "stdout",
     "output_type": "stream",
     "text": [
      "+-------------+-----+\n",
      "|         City|count|\n",
      "+-------------+-----+\n",
      "|     Portland|  105|\n",
      "|       Denver|   92|\n",
      "|    San Diego|   91|\n",
      "|      Seattle|   78|\n",
      "|      Chicago|   64|\n",
      "|       Austin|   49|\n",
      "|      Houston|   40|\n",
      "|San Francisco|   39|\n",
      "|     Columbus|   39|\n",
      "|  Minneapolis|   38|\n",
      "|     Richmond|   36|\n",
      "|   Cincinnati|   34|\n",
      "| Indianapolis|   33|\n",
      "|  Albuquerque|   32|\n",
      "|    Charlotte|   32|\n",
      "|    Cleveland|   31|\n",
      "|      Spokane|   30|\n",
      "|    Milwaukee|   29|\n",
      "|  Saint Louis|   28|\n",
      "| Grand Rapids|   28|\n",
      "+-------------+-----+\n",
      "only showing top 20 rows\n",
      "\n"
     ]
    },
    {
     "name": "stderr",
     "output_type": "stream",
     "text": [
      "                                                                                \r"
     ]
    },
    {
     "name": "stdout",
     "output_type": "stream",
     "text": [
      "+-------------+-----+\n",
      "|         City|count|\n",
      "+-------------+-----+\n",
      "|     Portland|  105|\n",
      "|       Denver|   92|\n",
      "|    San Diego|   91|\n",
      "|      Seattle|   78|\n",
      "|      Chicago|   64|\n",
      "|       Austin|   49|\n",
      "|      Houston|   40|\n",
      "|San Francisco|   39|\n",
      "|     Columbus|   39|\n",
      "|  Minneapolis|   38|\n",
      "|     Richmond|   36|\n",
      "|   Cincinnati|   34|\n",
      "| Indianapolis|   33|\n",
      "|  Albuquerque|   32|\n",
      "|    Charlotte|   32|\n",
      "|    Cleveland|   31|\n",
      "|      Spokane|   30|\n",
      "|    Milwaukee|   29|\n",
      "|  Saint Louis|   28|\n",
      "| Grand Rapids|   28|\n",
      "+-------------+-----+\n",
      "only showing top 20 rows\n",
      "\n"
     ]
    },
    {
     "name": "stderr",
     "output_type": "stream",
     "text": [
      "                                                                                \r"
     ]
    },
    {
     "name": "stdout",
     "output_type": "stream",
     "text": [
      "+-------------+-----+\n",
      "|         City|count|\n",
      "+-------------+-----+\n",
      "|     Portland|  105|\n",
      "|       Denver|   92|\n",
      "|    San Diego|   91|\n",
      "|      Seattle|   78|\n",
      "|      Chicago|   64|\n",
      "|       Austin|   49|\n",
      "|      Houston|   40|\n",
      "|San Francisco|   39|\n",
      "|     Columbus|   39|\n",
      "|  Minneapolis|   38|\n",
      "|     Richmond|   36|\n",
      "|   Cincinnati|   34|\n",
      "| Indianapolis|   33|\n",
      "|  Albuquerque|   32|\n",
      "|    Charlotte|   32|\n",
      "|    Cleveland|   31|\n",
      "|      Spokane|   30|\n",
      "|    Milwaukee|   29|\n",
      "|  Saint Louis|   28|\n",
      "| Grand Rapids|   28|\n",
      "+-------------+-----+\n",
      "only showing top 20 rows\n",
      "\n"
     ]
    },
    {
     "name": "stderr",
     "output_type": "stream",
     "text": [
      "                                                                                \r"
     ]
    },
    {
     "name": "stdout",
     "output_type": "stream",
     "text": [
      "+-------------+-----+\n",
      "|         City|count|\n",
      "+-------------+-----+\n",
      "|     Portland|  105|\n",
      "|       Denver|   92|\n",
      "|    San Diego|   91|\n",
      "|      Seattle|   78|\n",
      "|      Chicago|   64|\n",
      "|       Austin|   49|\n",
      "|      Houston|   40|\n",
      "|San Francisco|   39|\n",
      "|     Columbus|   39|\n",
      "|  Minneapolis|   38|\n",
      "|     Richmond|   36|\n",
      "|   Cincinnati|   34|\n",
      "| Indianapolis|   33|\n",
      "|  Albuquerque|   32|\n",
      "|    Charlotte|   32|\n",
      "|    Cleveland|   31|\n",
      "|      Spokane|   30|\n",
      "|    Milwaukee|   29|\n",
      "|  Saint Louis|   28|\n",
      "| Grand Rapids|   28|\n",
      "+-------------+-----+\n",
      "only showing top 20 rows\n",
      "\n"
     ]
    },
    {
     "name": "stderr",
     "output_type": "stream",
     "text": [
      "                                                                                \r"
     ]
    },
    {
     "name": "stdout",
     "output_type": "stream",
     "text": [
      "+-------------+-----+\n",
      "|         City|count|\n",
      "+-------------+-----+\n",
      "|     Portland|  105|\n",
      "|       Denver|   92|\n",
      "|    San Diego|   91|\n",
      "|      Seattle|   78|\n",
      "|      Chicago|   64|\n",
      "|       Austin|   49|\n",
      "|      Houston|   40|\n",
      "|San Francisco|   39|\n",
      "|     Columbus|   39|\n",
      "|  Minneapolis|   38|\n",
      "|     Richmond|   36|\n",
      "|   Cincinnati|   34|\n",
      "| Indianapolis|   33|\n",
      "|  Albuquerque|   32|\n",
      "|    Charlotte|   32|\n",
      "|    Cleveland|   31|\n",
      "|      Spokane|   30|\n",
      "|    Milwaukee|   29|\n",
      "|  Saint Louis|   28|\n",
      "| Grand Rapids|   28|\n",
      "+-------------+-----+\n",
      "only showing top 20 rows\n",
      "\n"
     ]
    },
    {
     "name": "stderr",
     "output_type": "stream",
     "text": [
      "[Stage 97:=====================================================>  (92 + 1) / 97]\r"
     ]
    },
    {
     "name": "stdout",
     "output_type": "stream",
     "text": [
      "+-------------+-----+\n",
      "|         City|count|\n",
      "+-------------+-----+\n",
      "|     Portland|  105|\n",
      "|       Denver|   92|\n",
      "|    San Diego|   91|\n",
      "|      Seattle|   78|\n",
      "|      Chicago|   64|\n",
      "|       Austin|   49|\n",
      "|      Houston|   40|\n",
      "|San Francisco|   39|\n",
      "|     Columbus|   39|\n",
      "|  Minneapolis|   38|\n",
      "|     Richmond|   36|\n",
      "|   Cincinnati|   34|\n",
      "| Indianapolis|   33|\n",
      "|  Albuquerque|   32|\n",
      "|    Charlotte|   32|\n",
      "|    Cleveland|   31|\n",
      "|      Spokane|   30|\n",
      "|    Milwaukee|   29|\n",
      "|  Saint Louis|   28|\n",
      "| Grand Rapids|   28|\n",
      "+-------------+-----+\n",
      "only showing top 20 rows\n",
      "\n",
      "5.91 s ± 449 ms per loop (mean ± std. dev. of 7 runs, 1 loop each)\n"
     ]
    },
    {
     "name": "stderr",
     "output_type": "stream",
     "text": [
      "                                                                                \r"
     ]
    }
   ],
   "source": [
    "%%timeit\n",
    "df_partition.groupBy(\"City\").count().orderBy(F.col('count').desc()).show()"
   ]
  },
  {
   "cell_type": "markdown",
   "metadata": {},
   "source": [
    "## ZORDER BY"
   ]
  },
  {
   "cell_type": "code",
   "execution_count": 11,
   "metadata": {},
   "outputs": [
    {
     "name": "stderr",
     "output_type": "stream",
     "text": [
      "                                                                                \r"
     ]
    }
   ],
   "source": [
    "(\n",
    "    df_baseline\n",
    "        .write.format(\"delta\")\n",
    "        .mode(\"overwrite\")\n",
    "        .save(PATH_ZORDER)\n",
    ")"
   ]
  },
  {
   "cell_type": "code",
   "execution_count": 12,
   "metadata": {},
   "outputs": [
    {
     "name": "stderr",
     "output_type": "stream",
     "text": [
      "                                                                                \r"
     ]
    },
    {
     "data": {
      "text/plain": [
       "DataFrame[path: string, metrics: struct<numFilesAdded:bigint,numFilesRemoved:bigint,filesAdded:struct<min:bigint,max:bigint,avg:double,totalFiles:bigint,totalSize:bigint>,filesRemoved:struct<min:bigint,max:bigint,avg:double,totalFiles:bigint,totalSize:bigint>,partitionsOptimized:bigint,zOrderStats:struct<strategyName:string,inputCubeFiles:struct<num:bigint,size:bigint>,inputOtherFiles:struct<num:bigint,size:bigint>,inputNumCubes:bigint,mergedFiles:struct<num:bigint,size:bigint>,numOutputCubes:bigint,mergedNumCubes:bigint>,numBatches:bigint,totalConsideredFiles:bigint,totalFilesSkipped:bigint,preserveInsertionOrder:boolean,numFilesSkippedToReduceWriteAmplification:bigint,numBytesSkippedToReduceWriteAmplification:bigint,startTimeMs:bigint,endTimeMs:bigint,totalClusterParallelism:bigint,totalScheduledTasks:bigint,autoCompactParallelismStats:struct<maxClusterActiveParallelism:bigint,minClusterActiveParallelism:bigint,maxSessionActiveParallelism:bigint,minSessionActiveParallelism:bigint>,deletionVectorStats:struct<numDeletionVectorsRemoved:bigint,numDeletionVectorRowsRemoved:bigint>,numTableColumns:bigint,numTableColumnsWithStats:bigint>]"
      ]
     },
     "execution_count": 12,
     "metadata": {},
     "output_type": "execute_result"
    }
   ],
   "source": [
    "from delta.tables import *\n",
    "\n",
    "deltaTable = DeltaTable.forPath(spark, PATH_ZORDER)\n",
    "deltaTable.optimize().executeZOrderBy(\"City\")"
   ]
  },
  {
   "cell_type": "code",
   "execution_count": 13,
   "metadata": {},
   "outputs": [],
   "source": [
    "df_zorder = (\n",
    "    spark\n",
    "    .read.format(\"delta\")\n",
    "    .load(PATH_ZORDER)\n",
    ")"
   ]
  },
  {
   "cell_type": "code",
   "execution_count": 14,
   "metadata": {},
   "outputs": [
    {
     "name": "stderr",
     "output_type": "stream",
     "text": [
      "                                                                                \r"
     ]
    },
    {
     "name": "stdout",
     "output_type": "stream",
     "text": [
      "+-------------+-----+\n",
      "|         City|count|\n",
      "+-------------+-----+\n",
      "|     Portland|  105|\n",
      "|       Denver|   92|\n",
      "|    San Diego|   91|\n",
      "|      Seattle|   78|\n",
      "|      Chicago|   64|\n",
      "|       Austin|   49|\n",
      "|      Houston|   40|\n",
      "|San Francisco|   39|\n",
      "|     Columbus|   39|\n",
      "|  Minneapolis|   38|\n",
      "|     Richmond|   36|\n",
      "|   Cincinnati|   34|\n",
      "| Indianapolis|   33|\n",
      "|  Albuquerque|   32|\n",
      "|    Charlotte|   32|\n",
      "|    Cleveland|   31|\n",
      "|      Spokane|   30|\n",
      "|    Milwaukee|   29|\n",
      "|  Saint Louis|   28|\n",
      "| Grand Rapids|   28|\n",
      "+-------------+-----+\n",
      "only showing top 20 rows\n",
      "\n",
      "+-------------+-----+\n",
      "|         City|count|\n",
      "+-------------+-----+\n",
      "|     Portland|  105|\n",
      "|       Denver|   92|\n",
      "|    San Diego|   91|\n",
      "|      Seattle|   78|\n",
      "|      Chicago|   64|\n",
      "|       Austin|   49|\n",
      "|      Houston|   40|\n",
      "|San Francisco|   39|\n",
      "|     Columbus|   39|\n",
      "|  Minneapolis|   38|\n",
      "|     Richmond|   36|\n",
      "|   Cincinnati|   34|\n",
      "| Indianapolis|   33|\n",
      "|  Albuquerque|   32|\n",
      "|    Charlotte|   32|\n",
      "|    Cleveland|   31|\n",
      "|      Spokane|   30|\n",
      "|    Milwaukee|   29|\n",
      "|  Saint Louis|   28|\n",
      "| Grand Rapids|   28|\n",
      "+-------------+-----+\n",
      "only showing top 20 rows\n",
      "\n"
     ]
    },
    {
     "name": "stderr",
     "output_type": "stream",
     "text": [
      "                                                                                \r"
     ]
    },
    {
     "name": "stdout",
     "output_type": "stream",
     "text": [
      "+-------------+-----+\n",
      "|         City|count|\n",
      "+-------------+-----+\n",
      "|     Portland|  105|\n",
      "|       Denver|   92|\n",
      "|    San Diego|   91|\n",
      "|      Seattle|   78|\n",
      "|      Chicago|   64|\n",
      "|       Austin|   49|\n",
      "|      Houston|   40|\n",
      "|San Francisco|   39|\n",
      "|     Columbus|   39|\n",
      "|  Minneapolis|   38|\n",
      "|     Richmond|   36|\n",
      "|   Cincinnati|   34|\n",
      "| Indianapolis|   33|\n",
      "|  Albuquerque|   32|\n",
      "|    Charlotte|   32|\n",
      "|    Cleveland|   31|\n",
      "|      Spokane|   30|\n",
      "|    Milwaukee|   29|\n",
      "|  Saint Louis|   28|\n",
      "| Grand Rapids|   28|\n",
      "+-------------+-----+\n",
      "only showing top 20 rows\n",
      "\n",
      "+-------------+-----+\n",
      "|         City|count|\n",
      "+-------------+-----+\n",
      "|     Portland|  105|\n",
      "|       Denver|   92|\n",
      "|    San Diego|   91|\n",
      "|      Seattle|   78|\n",
      "|      Chicago|   64|\n",
      "|       Austin|   49|\n",
      "|      Houston|   40|\n",
      "|San Francisco|   39|\n",
      "|     Columbus|   39|\n",
      "|  Minneapolis|   38|\n",
      "|     Richmond|   36|\n",
      "|   Cincinnati|   34|\n",
      "| Indianapolis|   33|\n",
      "|  Albuquerque|   32|\n",
      "|    Charlotte|   32|\n",
      "|    Cleveland|   31|\n",
      "|      Spokane|   30|\n",
      "|    Milwaukee|   29|\n",
      "|  Saint Louis|   28|\n",
      "| Grand Rapids|   28|\n",
      "+-------------+-----+\n",
      "only showing top 20 rows\n",
      "\n",
      "+-------------+-----+\n",
      "|         City|count|\n",
      "+-------------+-----+\n",
      "|     Portland|  105|\n",
      "|       Denver|   92|\n",
      "|    San Diego|   91|\n",
      "|      Seattle|   78|\n",
      "|      Chicago|   64|\n",
      "|       Austin|   49|\n",
      "|      Houston|   40|\n",
      "|San Francisco|   39|\n",
      "|     Columbus|   39|\n",
      "|  Minneapolis|   38|\n",
      "|     Richmond|   36|\n",
      "|   Cincinnati|   34|\n",
      "| Indianapolis|   33|\n",
      "|  Albuquerque|   32|\n",
      "|    Charlotte|   32|\n",
      "|    Cleveland|   31|\n",
      "|      Spokane|   30|\n",
      "|    Milwaukee|   29|\n",
      "|  Saint Louis|   28|\n",
      "| Grand Rapids|   28|\n",
      "+-------------+-----+\n",
      "only showing top 20 rows\n",
      "\n",
      "+-------------+-----+\n",
      "|         City|count|\n",
      "+-------------+-----+\n",
      "|     Portland|  105|\n",
      "|       Denver|   92|\n",
      "|    San Diego|   91|\n",
      "|      Seattle|   78|\n",
      "|      Chicago|   64|\n",
      "|       Austin|   49|\n",
      "|      Houston|   40|\n",
      "|San Francisco|   39|\n",
      "|     Columbus|   39|\n",
      "|  Minneapolis|   38|\n",
      "|     Richmond|   36|\n",
      "|   Cincinnati|   34|\n",
      "| Indianapolis|   33|\n",
      "|  Albuquerque|   32|\n",
      "|    Charlotte|   32|\n",
      "|    Cleveland|   31|\n",
      "|      Spokane|   30|\n",
      "|    Milwaukee|   29|\n",
      "|  Saint Louis|   28|\n",
      "| Grand Rapids|   28|\n",
      "+-------------+-----+\n",
      "only showing top 20 rows\n",
      "\n",
      "+-------------+-----+\n",
      "|         City|count|\n",
      "+-------------+-----+\n",
      "|     Portland|  105|\n",
      "|       Denver|   92|\n",
      "|    San Diego|   91|\n",
      "|      Seattle|   78|\n",
      "|      Chicago|   64|\n",
      "|       Austin|   49|\n",
      "|      Houston|   40|\n",
      "|San Francisco|   39|\n",
      "|     Columbus|   39|\n",
      "|  Minneapolis|   38|\n",
      "|     Richmond|   36|\n",
      "|   Cincinnati|   34|\n",
      "| Indianapolis|   33|\n",
      "|  Albuquerque|   32|\n",
      "|    Charlotte|   32|\n",
      "|    Cleveland|   31|\n",
      "|      Spokane|   30|\n",
      "|    Milwaukee|   29|\n",
      "|  Saint Louis|   28|\n",
      "| Grand Rapids|   28|\n",
      "+-------------+-----+\n",
      "only showing top 20 rows\n",
      "\n",
      "+-------------+-----+\n",
      "|         City|count|\n",
      "+-------------+-----+\n",
      "|     Portland|  105|\n",
      "|       Denver|   92|\n",
      "|    San Diego|   91|\n",
      "|      Seattle|   78|\n",
      "|      Chicago|   64|\n",
      "|       Austin|   49|\n",
      "|      Houston|   40|\n",
      "|San Francisco|   39|\n",
      "|     Columbus|   39|\n",
      "|  Minneapolis|   38|\n",
      "|     Richmond|   36|\n",
      "|   Cincinnati|   34|\n",
      "| Indianapolis|   33|\n",
      "|  Albuquerque|   32|\n",
      "|    Charlotte|   32|\n",
      "|    Cleveland|   31|\n",
      "|      Spokane|   30|\n",
      "|    Milwaukee|   29|\n",
      "|  Saint Louis|   28|\n",
      "| Grand Rapids|   28|\n",
      "+-------------+-----+\n",
      "only showing top 20 rows\n",
      "\n",
      "749 ms ± 48.2 ms per loop (mean ± std. dev. of 7 runs, 1 loop each)\n"
     ]
    }
   ],
   "source": [
    "%%timeit\n",
    "df_zorder.groupBy(\"City\").count().orderBy(F.col('count').desc()).show()"
   ]
  },
  {
   "cell_type": "code",
   "execution_count": 15,
   "metadata": {},
   "outputs": [],
   "source": [
    "del df_raw, df_baseline, df_partition, df_zorder"
   ]
  }
 ],
 "metadata": {
  "kernelspec": {
   "display_name": "Python 3",
   "language": "python",
   "name": "python3"
  },
  "language_info": {
   "codemirror_mode": {
    "name": "ipython",
    "version": 3
   },
   "file_extension": ".py",
   "mimetype": "text/x-python",
   "name": "python",
   "nbconvert_exporter": "python",
   "pygments_lexer": "ipython3",
   "version": "3.10.12"
  }
 },
 "nbformat": 4,
 "nbformat_minor": 2
}
